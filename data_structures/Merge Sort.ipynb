{
 "cells": [
  {
   "cell_type": "code",
   "execution_count": 38,
   "metadata": {},
   "outputs": [],
   "source": [
    "#merge two sorted arrays\n",
    "def merge(arr1, arr2):\n",
    "    \n",
    "    i = 0 #index for arr1\n",
    "    j = 0 #index for arr2\n",
    "    \n",
    "    res = [] #result array\n",
    "    \n",
    "    #while neither index is past its max\n",
    "    while i < len(arr1) and j < len(arr2):\n",
    "        \n",
    "        #arr1 smaller\n",
    "        if arr1[i] < arr2[j]:\n",
    "            res.append(arr1[i])\n",
    "            i+=1 \n",
    "        \n",
    "        #arr2 smaller or equal\n",
    "        else:\n",
    "            res.append(arr2[j])\n",
    "            j+=1\n",
    "    \n",
    "    #Did we reach the end of arr1?\n",
    "    if i==len(arr1):\n",
    "        res = res + arr2[j:]\n",
    "    \n",
    "    #if not, we must have reached the end of arr2\n",
    "    else:\n",
    "        res = res + arr1[i:]\n",
    "    \n",
    "    #useful for visualization\n",
    "    print(res)\n",
    "    return res\n",
    "\n",
    "def mergeSort(arr):\n",
    "    \n",
    "    #base case\n",
    "    if len(arr)==1:\n",
    "        return arr\n",
    "    \n",
    "    #find the halfway point\n",
    "    pivot = int(len(arr)/2)\n",
    "    \n",
    "    #sort each half\n",
    "    lSort = mergeSort(arr[:pivot])\n",
    "    rSort = mergeSort(arr[pivot:])\n",
    "    \n",
    "    #merge\n",
    "    return merge(lSort,rSort)"
   ]
  },
  {
   "cell_type": "code",
   "execution_count": 39,
   "metadata": {},
   "outputs": [
    {
     "name": "stdout",
     "output_type": "stream",
     "text": [
      "[1, 4]\n",
      "[1, 4, 13]\n",
      "[5, 9]\n",
      "[3, 4]\n",
      "[3, 4, 5, 9]\n",
      "[1, 3, 4, 4, 5, 9, 13]\n"
     ]
    },
    {
     "data": {
      "text/plain": [
       "[1, 3, 4, 4, 5, 9, 13]"
      ]
     },
     "execution_count": 39,
     "metadata": {},
     "output_type": "execute_result"
    }
   ],
   "source": [
    "mergeSort([13, 1, 4, 9, 5, 4, 3])"
   ]
  },
  {
   "cell_type": "code",
   "execution_count": null,
   "metadata": {},
   "outputs": [],
   "source": []
  }
 ],
 "metadata": {
  "kernelspec": {
   "display_name": "Python 3",
   "language": "python",
   "name": "python3"
  },
  "language_info": {
   "codemirror_mode": {
    "name": "ipython",
    "version": 3
   },
   "file_extension": ".py",
   "mimetype": "text/x-python",
   "name": "python",
   "nbconvert_exporter": "python",
   "pygments_lexer": "ipython3",
   "version": "3.6.8"
  }
 },
 "nbformat": 4,
 "nbformat_minor": 2
}
