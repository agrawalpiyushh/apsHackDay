{
 "cells": [
  {
   "cell_type": "markdown",
   "metadata": {},
   "source": [
    "# Linked Lists\n",
    "\n",
    "A linked list is a data structure which, similar to a list, consists of a series of values. However, unlike a list, a linked list does not exist as a single structure. Rather, it is a series of independent entries, or *nodes*, that are chained together. Each node \"knows\" its own value and which node is next in the chain (some linked lists are bi-directional and know their predecessors as well). "
   ]
  },
  {
   "cell_type": "markdown",
   "metadata": {},
   "source": [
    "### Let's start by creating a class that simulates a single \"node\"\n",
    "Our node should have two elements:\n",
    "* val (what value is stored here)\n",
    "* next (which node is next in the linked list)"
   ]
  },
  {
   "cell_type": "code",
   "execution_count": 1,
   "metadata": {},
   "outputs": [],
   "source": [
    "class Node:\n",
    "    def __init__(self, val):\n",
    "        self.val = val\n",
    "        self.next = None #a node should originally point to nothing"
   ]
  },
  {
   "cell_type": "markdown",
   "metadata": {},
   "source": [
    "Let's start by creating a single node with a value"
   ]
  },
  {
   "cell_type": "code",
   "execution_count": 2,
   "metadata": {},
   "outputs": [
    {
     "data": {
      "text/plain": [
       "3"
      ]
     },
     "execution_count": 2,
     "metadata": {},
     "output_type": "execute_result"
    }
   ],
   "source": [
    "test = Node(3)\n",
    "test.val"
   ]
  },
  {
   "cell_type": "markdown",
   "metadata": {},
   "source": [
    "A linked list can hold anything in val, including numbers, strings, or even other lists! You can have different types in each node as well, although this can be tricky to deal with."
   ]
  },
  {
   "cell_type": "code",
   "execution_count": 3,
   "metadata": {},
   "outputs": [
    {
     "data": {
      "text/plain": [
       "'Andromeda'"
      ]
     },
     "execution_count": 3,
     "metadata": {},
     "output_type": "execute_result"
    }
   ],
   "source": [
    "test.val = 'Andromeda'\n",
    "test.val"
   ]
  },
  {
   "cell_type": "markdown",
   "metadata": {},
   "source": [
    "Since we haven't defined test.next yet, it will still be \"None\"."
   ]
  },
  {
   "cell_type": "code",
   "execution_count": 4,
   "metadata": {},
   "outputs": [],
   "source": [
    "test.next"
   ]
  },
  {
   "cell_type": "markdown",
   "metadata": {},
   "source": [
    "### Now let's create an actual linked list\n",
    "For this example, let's consider an imaginary chain of cited papers"
   ]
  },
  {
   "cell_type": "code",
   "execution_count": 5,
   "metadata": {},
   "outputs": [],
   "source": [
    "paper1 = Node(\"Einstein (1906)\")\n",
    "paper2 = Node(\"Oppenheimer (1945)\")"
   ]
  },
  {
   "cell_type": "code",
   "execution_count": 6,
   "metadata": {},
   "outputs": [
    {
     "data": {
      "text/plain": [
       "('Einstein (1906)', 'Oppenheimer (1945)')"
      ]
     },
     "execution_count": 6,
     "metadata": {},
     "output_type": "execute_result"
    }
   ],
   "source": [
    "paper1.val, paper2.val"
   ]
  },
  {
   "cell_type": "markdown",
   "metadata": {},
   "source": [
    "These are currently two separated nodes. In order to have one point to the other, we simply set paper2 as paper1's next. We now have a linked list! Note that paper1.next is not \"Oppenheimer (1945)\", but rather the node *object*."
   ]
  },
  {
   "cell_type": "code",
   "execution_count": 7,
   "metadata": {},
   "outputs": [
    {
     "data": {
      "text/plain": [
       "<__main__.Node at 0x7f6844377358>"
      ]
     },
     "execution_count": 7,
     "metadata": {},
     "output_type": "execute_result"
    }
   ],
   "source": [
    "paper1.next = paper2\n",
    "paper1.next"
   ]
  },
  {
   "cell_type": "markdown",
   "metadata": {},
   "source": [
    "If we want to retrieve \"Oppenheimer (1945)\", we need to ask for the val of paper1.next"
   ]
  },
  {
   "cell_type": "code",
   "execution_count": 8,
   "metadata": {},
   "outputs": [
    {
     "data": {
      "text/plain": [
       "'Oppenheimer (1945)'"
      ]
     },
     "execution_count": 8,
     "metadata": {},
     "output_type": "execute_result"
    }
   ],
   "source": [
    "paper1.next.val"
   ]
  },
  {
   "cell_type": "markdown",
   "metadata": {},
   "source": [
    "We can access any property of paper1.next. Keep in mind that each node so far exists independently of the linked list, so changing paper1.next changes paper2."
   ]
  },
  {
   "cell_type": "code",
   "execution_count": 9,
   "metadata": {},
   "outputs": [
    {
     "data": {
      "text/plain": [
       "'Meitner (1960)'"
      ]
     },
     "execution_count": 9,
     "metadata": {},
     "output_type": "execute_result"
    }
   ],
   "source": [
    "paper3 = Node(\"Meitner (1960)\")\n",
    "paper1.next.next = paper3\n",
    "paper2.next.val"
   ]
  },
  {
   "cell_type": "markdown",
   "metadata": {},
   "source": [
    "We don't need to name a Node to add it to the linked list. However, if we ever change the value of paper3.next, we will lose all access to the rest of the chain!"
   ]
  },
  {
   "cell_type": "code",
   "execution_count": 10,
   "metadata": {},
   "outputs": [
    {
     "data": {
      "text/plain": [
       "'Kaku (1980)'"
      ]
     },
     "execution_count": 10,
     "metadata": {},
     "output_type": "execute_result"
    }
   ],
   "source": [
    "paper3.next = Node(\"Kaku (1980)\")\n",
    "paper1.next.next.next.val"
   ]
  },
  {
   "cell_type": "markdown",
   "metadata": {},
   "source": [
    "We can now iterate over our linked list. Unfortunately, this is a bit harder than with a regular list. Since Nodes are a custom class, Python does not know how to iterate over them with \"for\". As shown below, one of the most useful techniques for iterating through a loop is creating a variable current, which points to a single node. We perform some action on that node and then move \"current\" to the next node, forgetting all previous values. Below is a quick bit of code to construct a sentence based on our linked list."
   ]
  },
  {
   "cell_type": "code",
   "execution_count": 11,
   "metadata": {},
   "outputs": [
    {
     "name": "stdout",
     "output_type": "stream",
     "text": [
      "Einstein (1906) who was cited by Oppenheimer (1945) who was cited by Meitner (1960) who was cited by Kaku (1980)\n"
     ]
    }
   ],
   "source": [
    "#intialize the variable \"current\" and the sentence we're constructing \n",
    "current = paper1\n",
    "sentence = current.val\n",
    "\n",
    "current = current.next\n",
    "\n",
    "while current: #this will end when we reach the end of the linked list\n",
    "    sentence += \" who was cited by \" + current.val #perform an action\n",
    "    current = current.next #move to the next node\n",
    "    \n",
    "print(sentence)"
   ]
  },
  {
   "cell_type": "code",
   "execution_count": 32,
   "metadata": {},
   "outputs": [
    {
     "name": "stdout",
     "output_type": "stream",
     "text": [
      "Einstein (1906) -> Oppenheimer (1945) -> Meitner (1960) -> Kaku (1980)\n"
     ]
    }
   ],
   "source": [
    "print(paper1.val + \" -> \" + paper1.next.val + \n",
    "      \" -> \" + paper1.next.next.val + \" -> \" +\n",
    "     paper1.next.next.next.val)"
   ]
  },
  {
   "cell_type": "markdown",
   "metadata": {},
   "source": [
    "## Examples\n",
    "Let's consider a few practice problems with linked lists. To start, I'm going to provide a function that creates a linked list from an array of numbers. Since it is easy to destroy linked lists in the process of interacting with them, this function will be useful to quickly recover a linked list that is appropriate for the problems below. Note that we don't return a linked list, we just return the *head* of the linked list."
   ]
  },
  {
   "cell_type": "code",
   "execution_count": 13,
   "metadata": {},
   "outputs": [],
   "source": [
    "def makeLL():\n",
    "    LLarray = [4, 7, 1, 2, 5, 3, 2, 9, 5, 2]\n",
    "    pLL = Node(4)\n",
    "    current = Node(7)\n",
    "    pLL.next = current\n",
    "\n",
    "    for num in LLarray[2:]:\n",
    "        current.next = Node(num) #set the node value\n",
    "        current = current.next #move to the next node\n",
    "        \n",
    "    return pLL \n",
    "\n",
    "pLL = makeLL() #we now have a practice linked list"
   ]
  },
  {
   "cell_type": "code",
   "execution_count": 14,
   "metadata": {},
   "outputs": [
    {
     "data": {
      "text/plain": [
       "(4, 7, 1, 9)"
      ]
     },
     "execution_count": 14,
     "metadata": {},
     "output_type": "execute_result"
    }
   ],
   "source": [
    "(pLL.val, pLL.next.val, pLL.next.next.val, pLL.next.next.next.next.next.next.next.val)"
   ]
  },
  {
   "cell_type": "code",
   "execution_count": 15,
   "metadata": {},
   "outputs": [
    {
     "data": {
      "text/plain": [
       "[None]"
      ]
     },
     "execution_count": 15,
     "metadata": {},
     "output_type": "execute_result"
    }
   ],
   "source": [
    "[pLL.next.next.next.next.next.next.next.next.next.next]"
   ]
  },
  {
   "cell_type": "code",
   "execution_count": 16,
   "metadata": {},
   "outputs": [],
   "source": [
    "#pLL.next.next.next.next.next.next.next.next.next.next.val #returns an error"
   ]
  },
  {
   "cell_type": "markdown",
   "metadata": {},
   "source": [
    "I've also created a quick function, printList, which will print the contents of a linked list, separated by commmas. Notice that this function is recursive. By their nature, linked lists are very amenable to recursion!"
   ]
  },
  {
   "cell_type": "code",
   "execution_count": 17,
   "metadata": {},
   "outputs": [],
   "source": [
    "#a function for building a string out of a linked list\n",
    "def makeStr(node):\n",
    "    if node.next: #not the end, make a recursive call on the rest of the list\n",
    "        sentence = str(node.val) + ', ' + makeStr(node.next)\n",
    "        return sentence\n",
    "    \n",
    "    else: #the end of the linked list\n",
    "        sentence = str(node.val)\n",
    "        return sentence\n",
    "\n",
    "#This function simply constructs the string of the linked list and then prints it.\n",
    "def printList(node):\n",
    "    sentence = makeStr(node)\n",
    "    print(sentence)"
   ]
  },
  {
   "cell_type": "code",
   "execution_count": 18,
   "metadata": {},
   "outputs": [
    {
     "name": "stdout",
     "output_type": "stream",
     "text": [
      "4, 7, 1, 2, 5, 3, 2, 9, 5, 2\n"
     ]
    }
   ],
   "source": [
    "printList(pLL)"
   ]
  },
  {
   "cell_type": "markdown",
   "metadata": {},
   "source": [
    "##### Reverse a linked list\n",
    "Let's start by reversing a linked list. This illustrates a common problem in working with linked lists. Namely, we want to be able to manipulate our linked list without destroying part of it. It is therefore often necessary to save parts of the list in new variables."
   ]
  },
  {
   "cell_type": "code",
   "execution_count": 19,
   "metadata": {},
   "outputs": [],
   "source": [
    "def revLL(head):\n",
    "    \n",
    "    current = head\n",
    "    prev = None #nothing is before our head\n",
    "    \n",
    "    while current: #end when we reach the end of the list\n",
    "        \n",
    "        next = current.next #Find our next node\n",
    "        current.next = prev #Set the current's \"next\" to the previous node (swap the order)\n",
    "        prev = current #Update our previous node to the current one\n",
    "        current = next #Update our current node to the next one\n",
    "        \n",
    "    return prev"
   ]
  },
  {
   "cell_type": "code",
   "execution_count": 20,
   "metadata": {},
   "outputs": [
    {
     "name": "stdout",
     "output_type": "stream",
     "text": [
      "4, 7, 1, 2, 5, 3, 2, 9, 5, 2\n",
      "2, 5, 9, 2, 3, 5, 2, 1, 7, 4\n"
     ]
    }
   ],
   "source": [
    "pLL = makeLL()\n",
    "printList(pLL)\n",
    "\n",
    "newLL = revLL(pLL)\n",
    "printList(newLL)"
   ]
  },
  {
   "cell_type": "markdown",
   "metadata": {},
   "source": [
    "Unfortunately, in the process we set our head's \"next\" to None. We have therefore destroyed our original list! Can you think of a variation on this function that would preserve the original list?"
   ]
  },
  {
   "cell_type": "code",
   "execution_count": 21,
   "metadata": {},
   "outputs": [
    {
     "name": "stdout",
     "output_type": "stream",
     "text": [
      "4\n"
     ]
    }
   ],
   "source": [
    "printList(pLL)"
   ]
  },
  {
   "cell_type": "markdown",
   "metadata": {},
   "source": [
    "##### Check a LL for duplicates\n",
    "Now try some challenges yourself! You can expand the solution cells if you would like to see some of the ways I did it, but you might be able to come up with something better!\n",
    "\n",
    "First, write a function called dupCheck that checks for duplicates in a linked list. It should return a list of every value that is repeated and the number of times it occurs."
   ]
  },
  {
   "cell_type": "code",
   "execution_count": 22,
   "metadata": {},
   "outputs": [],
   "source": [
    "def dupCheck(head):\n",
    "    return head"
   ]
  },
  {
   "cell_type": "code",
   "execution_count": 23,
   "metadata": {},
   "outputs": [
    {
     "name": "stdout",
     "output_type": "stream",
     "text": [
      "<__main__.Node object at 0x7f6844377f60>\n",
      "should return \n",
      "[[2, 3], [5, 2]]\n",
      "not necessarily in that order\n"
     ]
    }
   ],
   "source": [
    "pLL = makeLL()\n",
    "print(dupCheck(pLL))\n",
    "print(\"should return \\n[[2, 3], [5, 2]]\\nnot necessarily in that order\")"
   ]
  },
  {
   "cell_type": "markdown",
   "metadata": {},
   "source": [
    "I've created two possible solutions. The first, averySlowDupCheck, runs in O(n^2). The second, averyDupCheck, runs in O(n)."
   ]
  },
  {
   "cell_type": "code",
   "execution_count": 24,
   "metadata": {},
   "outputs": [],
   "source": [
    "def averySlowDupCheck(head):\n",
    "    \n",
    "    current = head\n",
    "    res = [] #the result to be returned\n",
    "    found = [] #What numbers have we already dealt with?\n",
    "    \n",
    "    while current:\n",
    "        \n",
    "        testVal = current.val\n",
    "        if testVal not in found: #A new number\n",
    "            count = 1\n",
    "            next = current.next\n",
    "            \n",
    "            while next: #iterate to the end of the list from current\n",
    "                if next.val == testVal:\n",
    "                    count += 1\n",
    "                next = next.next\n",
    "                \n",
    "            if count > 1: #This number has duplicates\n",
    "                res.append([testVal, count])\n",
    "                found.append(testVal)\n",
    "                \n",
    "        current = current.next #move to the next node\n",
    "        \n",
    "    return res"
   ]
  },
  {
   "cell_type": "code",
   "execution_count": 25,
   "metadata": {
    "scrolled": true
   },
   "outputs": [
    {
     "name": "stdout",
     "output_type": "stream",
     "text": [
      "[[2, 3], [5, 2]]\n"
     ]
    }
   ],
   "source": [
    "pLL = makeLL()\n",
    "print(averySlowDupCheck(pLL))"
   ]
  },
  {
   "cell_type": "code",
   "execution_count": 26,
   "metadata": {
    "tags": [
     "hide_input"
    ]
   },
   "outputs": [],
   "source": [
    "def averyDupCheck(head):\n",
    "    \n",
    "    \"\"\"I'm going to create a dictionary. If you have not used a dictionary in Python\n",
    "    before, they are incredibly useful data structures that allow you to map keys to\n",
    "    values. Outside of Python, these are known as hash tables. Looking up something on a\n",
    "    hash table takes O(1) time.\n",
    "    \n",
    "    Is is not strictly necessary to count the size of the result array before we make it.\n",
    "    We could just append to it at the end. However, remember that creating an array of size\n",
    "    n by appending takes O(n^2) time.\"\"\"\n",
    "    \n",
    "    counts = {}\n",
    "    current = head\n",
    "    resLen = 0 #how large is the result array?\n",
    "    \n",
    "    while current: \n",
    "        val = current.val\n",
    "        \n",
    "        if val in counts: #Duplicate\n",
    "            counts[val] += 1\n",
    "            \n",
    "        else: #new entry\n",
    "            counts[val] = 1\n",
    "            \n",
    "        if counts[val] == 2: #minimum required to be a duplicate\n",
    "            resLen += 1\n",
    "            \n",
    "        current = current.next #move to the next node\n",
    "    \n",
    "    #construct an empty result array\n",
    "    res = [[]]*resLen\n",
    "    \n",
    "    #iterate through the dictionary, adding entries where the count is larger than 2\n",
    "    ind = 0\n",
    "    for key in counts:\n",
    "        if counts[key] > 1:\n",
    "            res[ind] = [key, counts[key]]\n",
    "            ind += 1\n",
    "    return res"
   ]
  },
  {
   "cell_type": "code",
   "execution_count": 27,
   "metadata": {},
   "outputs": [
    {
     "data": {
      "text/plain": [
       "[[2, 3], [5, 2]]"
      ]
     },
     "execution_count": 27,
     "metadata": {},
     "output_type": "execute_result"
    }
   ],
   "source": [
    "averyDupCheck(pLL)"
   ]
  },
  {
   "cell_type": "markdown",
   "metadata": {},
   "source": [
    "##### Sort a linked list\n",
    "Now let's try and sort a linked list. It might be useful to review the sorting algorithms before attemping this challenge! I provide a solution that implements merge sort, but you may have some success with other sorting algorithms. Keep in mind that some algorithms that are trivial with normal lists become nightmarish with linked lists! My solution creates a new linked list. Can you create a function that alters the original list?"
   ]
  },
  {
   "cell_type": "code",
   "execution_count": 28,
   "metadata": {},
   "outputs": [],
   "source": [
    "def LLSort(head):\n",
    "    return head"
   ]
  },
  {
   "cell_type": "code",
   "execution_count": 29,
   "metadata": {},
   "outputs": [
    {
     "name": "stdout",
     "output_type": "stream",
     "text": [
      "4, 7, 1, 2, 5, 3, 2, 9, 5, 2\n",
      "Should be \n",
      "1, 2, 2, 2, 3, 4, 5, 5, 7, 9\n"
     ]
    }
   ],
   "source": [
    "pLL = makeLL()\n",
    "printList(LLSort(pLL))\n",
    "print('Should be \\n1, 2, 2, 2, 3, 4, 5, 5, 7, 9')"
   ]
  },
  {
   "cell_type": "code",
   "execution_count": 30,
   "metadata": {},
   "outputs": [
    {
     "name": "stdout",
     "output_type": "stream",
     "text": [
      "1, 2, 2, 2, 3, 4, 5, 5, 7, 9\n"
     ]
    }
   ],
   "source": [
    "pLL = makeLL()\n",
    "\n",
    "#This function merges two sorted lists into a single linked list\n",
    "#A new list is created\n",
    "\n",
    "def mergeLL(lSort, rSort):\n",
    "    \n",
    "    #set the initial value\n",
    "    if lSort.val < rSort.val:\n",
    "        head = Node(lSort.val)\n",
    "        lSort = lSort.next #advance down the left list\n",
    "        \n",
    "    else:\n",
    "        head = Node(rSort.val)\n",
    "        rSort = rSort.next #advance down the right list\n",
    "        \n",
    "    current = head\n",
    "    \n",
    "    while lSort or rSort:\n",
    "        \n",
    "        if not rSort: #only left list values remain\n",
    "            current.next = Node(lSort.val)\n",
    "            lSort = lSort.next\n",
    "            \n",
    "        elif not lSort: #only right list values remain\n",
    "            current.next = Node(rSort.val)\n",
    "            rSort = rSort.next\n",
    "        \n",
    "        elif lSort.val < rSort.val: #right is larger\n",
    "            current.next = Node(lSort.val)\n",
    "            lSort = lSort.next\n",
    "        \n",
    "        else: #left is larger\n",
    "            current.next = Node(rSort.val)\n",
    "            rSort = rSort.next\n",
    "            \n",
    "        current = current.next #advance to the next node\n",
    "    return head\n",
    "\n",
    "def averySort(head):\n",
    "    \n",
    "    #start by counting the length of the list so we know the half-way point\n",
    "    LLlen = 0\n",
    "    current = head\n",
    "    while current:\n",
    "        LLlen += 1\n",
    "        current = current.next\n",
    "    \n",
    "    if LLlen == 1: #base case, a single element\n",
    "        return head\n",
    "    \n",
    "    else:\n",
    "        \n",
    "        #advance to one point before the halfway point\n",
    "        ind = 0\n",
    "        current = head\n",
    "        while ind < LLlen/2 - 1:\n",
    "            current = current.next\n",
    "            ind += 1\n",
    "\n",
    "        #Divide the two lists\n",
    "        right = current.next\n",
    "        current.next = None\n",
    "\n",
    "        #sort each one recursively\n",
    "        lSort = averySort(head)\n",
    "        rSort = averySort(right)\n",
    "\n",
    "        #combine the two sorted halves\n",
    "        sortL = mergeLL(lSort, rSort)\n",
    "        \n",
    "        #restore the original list\n",
    "        current.next = right\n",
    "        return sortL\n",
    "printList(averySort(pLL))"
   ]
  },
  {
   "cell_type": "code",
   "execution_count": null,
   "metadata": {},
   "outputs": [],
   "source": []
  }
 ],
 "metadata": {
  "kernelspec": {
   "display_name": "Python 3",
   "language": "python",
   "name": "python3"
  },
  "language_info": {
   "codemirror_mode": {
    "name": "ipython",
    "version": 3
   },
   "file_extension": ".py",
   "mimetype": "text/x-python",
   "name": "python",
   "nbconvert_exporter": "python",
   "pygments_lexer": "ipython3",
   "version": "3.6.8"
  }
 },
 "nbformat": 4,
 "nbformat_minor": 2
}
