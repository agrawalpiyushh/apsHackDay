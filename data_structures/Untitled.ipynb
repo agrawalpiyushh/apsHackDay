{
 "cells": [
  {
   "cell_type": "markdown",
   "metadata": {},
   "source": [
    "# Trees\n",
    "\n",
    "Trees are data structures that are relatively similar to linked lists, but each node may point to multiple \"children.\" Like linked lists, there is no memory of previous nodes as you move through the data structure. Nodes with no children are referred to as \"leaves,\" with the topmost node called the \"root.\" Trees are also recursively structured: each child can act as the root of its own subtree."
   ]
  },
  {
   "cell_type": "code",
   "execution_count": 49,
   "metadata": {},
   "outputs": [],
   "source": [
    "from IPython.display import Image"
   ]
  },
  {
   "cell_type": "markdown",
   "metadata": {},
   "source": [
    "We start by creating a class that emulates a single node of the tree. It contains two variables: its own value and a list of its children. It is optional to give the children when creating a node and the default is no children."
   ]
  },
  {
   "cell_type": "code",
   "execution_count": 1,
   "metadata": {},
   "outputs": [],
   "source": [
    "class Node:\n",
    "    def __init__(self, value, children=[]):\n",
    "        self.value = value\n",
    "        self.children = children\n",
    "        \n",
    "    \"\"\"The following code allows us to easily print\n",
    "    any given tree. Trees are best vizualized as\n",
    "    vertical structures, with each child in the row\n",
    "    below its parent and children of equal depth along\n",
    "    the same row. Programming that representation in a\n",
    "    robust way is rather obnoxious. Therefore, for the\n",
    "    purposes of this notebook, we will represent equal depth\n",
    "    levels with equal amounts of identation.\"\"\"\n",
    "    def __str__(self, level=0):\n",
    "        ret = \"\\t\"*level+repr(self.value)+\"\\n\"\n",
    "        for child in self.children:\n",
    "            ret += child.__str__(level+1)\n",
    "        return ret"
   ]
  },
  {
   "cell_type": "markdown",
   "metadata": {},
   "source": [
    "Let's start with a relatively simple tree. There are 7 nodes: 1 root, 3 children, and 3 \"grandchildren.\""
   ]
  },
  {
   "cell_type": "code",
   "execution_count": 27,
   "metadata": {},
   "outputs": [
    {
     "name": "stdout",
     "output_type": "stream",
     "text": [
      "1\n",
      "\t2\n",
      "\t\t5\n",
      "\t\t6\n",
      "\t3\n",
      "\t4\n",
      "\t\t7\n",
      "\n"
     ]
    }
   ],
   "source": [
    "root = Node(1)\n",
    "child1 = Node(2)\n",
    "child2 = Node(3)\n",
    "child3 = Node(4)\n",
    "grandchild1 = Node(5)\n",
    "grandchild2 = Node(6)\n",
    "grandchild3 = Node(7)\n",
    "\n",
    "root.children = [child1, child2, child3] #set root's children\n",
    "child1.children = [grandchild1, grandchild2] #set child1's children\n",
    "child3.children = [grandchild3] #set child3's children\n",
    "print(root)"
   ]
  },
  {
   "cell_type": "markdown",
   "metadata": {},
   "source": [
    "As before, we are not limited to trees of integers. Trees can hold anything, from ints to strings to linked lists to other trees <sub>(it's treetles all the way down <sub>(sorry)</sub>)</sub>. Let's create a tree that conceptually represents some of the fields of astronomy. I've tried to include a wide variety of ways that a tree can be modified so this is in no way the most simple approach to building this tree."
   ]
  },
  {
   "cell_type": "code",
   "execution_count": 146,
   "metadata": {},
   "outputs": [
    {
     "name": "stdout",
     "output_type": "stream",
     "text": [
      "'Astronomy'\n",
      "\t'Stars'\n",
      "\t\t'MS Stars'\n",
      "\t\t'Giants'\n",
      "\t\t'Supergiants'\n",
      "\t'Compact Objects'\n",
      "\t\t'Neutron Stars'\n",
      "\t\t'Black holes'\n",
      "\t\t\t'Supermassive black holes'\n",
      "\t\t\t'Stellar mass black holes'\n",
      "\t\t'White dwarfs'\n",
      "\t'Planets'\n",
      "\t\t'Exoplanets'\n",
      "\t\t'Planets'\n",
      "\n"
     ]
    }
   ],
   "source": [
    "#We start towards the bottom of the tree, defining some subfields of stars\n",
    "starSub = [Node(\"MS Stars\"), Node(\"Giants\"), Node(\"Supergiants\")]\n",
    "\n",
    "#We define our subfields and set one subsubfield\n",
    "subfields = [Node(\"Stars\", starSub), Node(\"Compact Objects\"), Node(\"Planets\")]\n",
    "\n",
    "#Now we finally create our root, setting the subfields as its children\n",
    "field = Node(\"Astronomy\", children=subfields)\n",
    "\n",
    "#Let's set the children of the second subfield (compact objects)\n",
    "#We can set subsubsubfields in the process by defining the children of \"black holes\"\n",
    "subfields[1].children = [Node(\"Neutron Stars\"), \n",
    "                         Node(\"Black holes\", \n",
    "                              [Node(\"Supermassive black holes\"), \n",
    "                               Node(\"Stellar mass black holes\")])]\n",
    "\n",
    "#In case we forget something, we can always append to our list of children later\n",
    "subfields[1].children.append(Node(\"White dwarfs\"))\n",
    "\n",
    "#finally, let's set our last subsubfield by accessing it from the root\n",
    "field.children[2].children = [Node(\"Exoplanets\"), Node(\"Planets\")]\n",
    "\n",
    "print(field)"
   ]
  },
  {
   "cell_type": "markdown",
   "metadata": {},
   "source": [
    "Remember that each child functions as its own tree! We can treat any node as the root of a tree."
   ]
  },
  {
   "cell_type": "code",
   "execution_count": 21,
   "metadata": {},
   "outputs": [
    {
     "name": "stdout",
     "output_type": "stream",
     "text": [
      "'Compact Objects'\n",
      "\t'Neutron Stars'\n",
      "\t'Black holes'\n",
      "\t\t'Supermassive black holes'\n",
      "\t\t'Stellar mass black holes'\n",
      "\t'White dwarfs'\n",
      "\n"
     ]
    }
   ],
   "source": [
    "print(subfields[1])"
   ]
  },
  {
   "cell_type": "markdown",
   "metadata": {},
   "source": [
    "One of the most important types of trees is a \"binary tree.\" Each node on a binary tree has at most **two** children. If these children exist, they are typically referred to as the \"left\" and \"right\" children. We will only make a small change to our class for convenience."
   ]
  },
  {
   "cell_type": "code",
   "execution_count": 40,
   "metadata": {},
   "outputs": [],
   "source": [
    "class binNode:\n",
    "    def __init__(self, value, left=None, right=None):\n",
    "        self.value = value\n",
    "        self.left = left\n",
    "        self.right = right\n",
    "    def __str__(self, level=0):\n",
    "        ret = \"\\t\"*level+repr(self.value)+\"\\n\"\n",
    "        for child in [self.left, self.right]:\n",
    "            if child:\n",
    "                ret += child.__str__(level+1)\n",
    "        return ret"
   ]
  },
  {
   "cell_type": "markdown",
   "metadata": {},
   "source": [
    "### Information encoding"
   ]
  },
  {
   "cell_type": "markdown",
   "metadata": {},
   "source": [
    "One application of binary trees is in the encoding of information. An excellent example of this is Morse Code! You can imagine whether you have a \"dot\" or a \"dash\" as going left or right in a binary tree. It is possible to stop at any node and check the value there to get the corresponding letter. Less common letters are further down the tree so the most common letters are encoded the most efficiently."
   ]
  },
  {
   "cell_type": "code",
   "execution_count": 52,
   "metadata": {},
   "outputs": [
    {
     "data": {
      "image/png": "[encoded data removed]",
      "text/plain": [
       "<IPython.core.display.Image object>"
      ]
     },
     "execution_count": 52,
     "metadata": {},
     "output_type": "execute_result"
    }
   ],
   "source": [
    "Image(filename=\"Morse_code_tree3.png\")"
   ]
  },
  {
   "cell_type": "markdown",
   "metadata": {},
   "source": [
    "Let's encode this ourselves!"
   ]
  },
  {
   "cell_type": "code",
   "execution_count": 54,
   "metadata": {},
   "outputs": [
    {
     "name": "stdout",
     "output_type": "stream",
     "text": [
      "''\n",
      "\t'E'\n",
      "\t\t'I'\n",
      "\t\t\t'S'\n",
      "\t\t\t\t'H'\n",
      "\t\t\t\t'V'\n",
      "\t\t\t'U'\n",
      "\t\t\t\t'F'\n",
      "\t\t'A'\n",
      "\t\t\t'R'\n",
      "\t\t\t\t'L'\n",
      "\t\t\t'W'\n",
      "\t\t\t\t'P'\n",
      "\t\t\t\t'J'\n",
      "\t'T'\n",
      "\t\t'N'\n",
      "\t\t\t'D'\n",
      "\t\t\t\t'B'\n",
      "\t\t\t\t'X'\n",
      "\t\t\t'K'\n",
      "\t\t\t\t'C'\n",
      "\t\t\t\t'Y'\n",
      "\t\t'M'\n",
      "\t\t\t'G'\n",
      "\t\t\t\t'Z'\n",
      "\t\t\t\t'Q'\n",
      "\t\t\t'O'\n",
      "\n"
     ]
    }
   ],
   "source": [
    "mcRoot = binNode(\"\", binNode(\"E\"), binNode(\"T\"))\n",
    "mcRoot.left.left = binNode(\"I\", binNode(\"S\", binNode(\"H\"), binNode(\"V\")), \n",
    "                           binNode(\"U\", binNode(\"F\")))\n",
    "mcRoot.left.right = binNode(\"A\", binNode(\"R\", binNode(\"L\")), \n",
    "                            binNode(\"W\", binNode(\"P\"), binNode(\"J\")))\n",
    "mcRoot.right.left = binNode(\"N\", binNode(\"D\", binNode(\"B\"), binNode(\"X\")), \n",
    "                            binNode(\"K\", binNode(\"C\"), binNode(\"Y\")))\n",
    "mcRoot.right.right = binNode(\"M\", binNode(\"G\", binNode(\"Z\"), binNode(\"Q\")),\n",
    "                            binNode(\"O\"))\n",
    "print(mcRoot)"
   ]
  },
  {
   "cell_type": "markdown",
   "metadata": {},
   "source": [
    "It's now relatively easy to create a function that can decode Morse Code! Notice that this is significantly cleaner and faster than the brute force solution of explicitly writing every letter's encoding."
   ]
  },
  {
   "cell_type": "code",
   "execution_count": 147,
   "metadata": {},
   "outputs": [],
   "source": [
    "def mcDecode(message):\n",
    "    \n",
    "    #Separate the letters\n",
    "    letters = message.split()\n",
    "    \n",
    "    res = \"\" #result string\n",
    "    \n",
    "    #Loop over all the letters\n",
    "    for chars in letters:\n",
    "        if chars=='/': #space character\n",
    "            res += \" \"\n",
    "        else:\n",
    "            current = mcRoot #start at the root\n",
    "            \n",
    "            #for each . or -, go left for .'s and right for -'s.\n",
    "            #stop when you reach the final . or -\n",
    "            for c in chars:\n",
    "                if c == '.':\n",
    "                    current = current.left\n",
    "                else:\n",
    "                    current = current.right\n",
    "            \n",
    "            #Add whatever letter we ended at to our string\n",
    "            res += current.value\n",
    "    \n",
    "    return res\n"
   ]
  },
  {
   "cell_type": "code",
   "execution_count": 97,
   "metadata": {},
   "outputs": [
    {
     "name": "stdout",
     "output_type": "stream",
     "text": [
      "APS\n"
     ]
    }
   ],
   "source": [
    "print(mcDecode(\".- .--. ...\"))"
   ]
  },
  {
   "cell_type": "code",
   "execution_count": 96,
   "metadata": {},
   "outputs": [
    {
     "data": {
      "text/plain": [
       "'HELLO WORLD'"
      ]
     },
     "execution_count": 96,
     "metadata": {},
     "output_type": "execute_result"
    }
   ],
   "source": [
    "mcDecode(\".... . .-.. .-.. --- / .-- --- .-. .-.. -..\")"
   ]
  },
  {
   "cell_type": "code",
   "execution_count": 95,
   "metadata": {},
   "outputs": [
    {
     "data": {
      "text/plain": [
       "'CALLING ALL THIS IS OUR LAST CRY BEFORE OUR ETERNAL SILENCE'"
      ]
     },
     "execution_count": 95,
     "metadata": {},
     "output_type": "execute_result"
    }
   ],
   "source": [
    "mcDecode(\"\"\"-.-. .- .-.. .-.. .. -. --. / \n",
    "                .- .-.. .-.. / - .... .. ... / \n",
    "                .. ... / --- ..- .-. / \n",
    "                .-.. .- ... - / -.-. .-. -.-- / \n",
    "                -... . ..-. --- .-. . / --- ..- .-. / \n",
    "                . - . .-. -. .- .-.. / ... .. .-.. . -. -.-. .\"\"\")"
   ]
  },
  {
   "cell_type": "markdown",
   "metadata": {},
   "source": [
    "One very important subtype of binary trees are *binary search trees,* or BSTs. BSTs are binary trees with a simple but significant feature. For any given node, the value of every successor on its left side (so its left child and all its left child's children) is less than its own value. Conversely, the value of every successor on the right side is greater. We are not necessarily restrained to numbers, this is sometimes down with alphabetical ordering.\n",
    "\n",
    "Consider the following example BST."
   ]
  },
  {
   "cell_type": "code",
   "execution_count": 148,
   "metadata": {},
   "outputs": [
    {
     "name": "stdout",
     "output_type": "stream",
     "text": [
      "15\n",
      "\t5\n",
      "\t\t1\n",
      "\t\t9\n",
      "\t25\n",
      "\t\t20\n",
      "\t\t30\n",
      "\t\t\t35\n",
      "\n"
     ]
    }
   ],
   "source": [
    "tBST = binNode(15, left = binNode(5), right = binNode(25)) # 5 < 15 < 25\n",
    "tBST.left.left = binNode(1) #1 < 5 < 15\n",
    "tBST.left.right = binNode(9) #5 < 9 < 15\n",
    "tBST.right.left = binNode(20) #15 < 20 < 25\n",
    "tBST.right.right = binNode(30) #15 < 25 < 30\n",
    "tBST.right.right.right = binNode(35) #15 < 25 < 30 < 35\n",
    "print(tBST)"
   ]
  },
  {
   "cell_type": "markdown",
   "metadata": {},
   "source": [
    "BSTs are nice because they have a very predictable structure. It is therefore quite easy to navigate a BST to find where a number is or should be. Two of the most common functions implemented for BSTs are *search* and *insert*.\n",
    "\n",
    "Let's start with search which simply tells us if it's True or False that a tree contains a number."
   ]
  },
  {
   "cell_type": "code",
   "execution_count": 152,
   "metadata": {},
   "outputs": [],
   "source": [
    "def search(val, root):\n",
    "    current = root\n",
    "    \n",
    "    while current: #go until we go past a leaf\n",
    "        \n",
    "        #we found it!\n",
    "        if current.value == val:\n",
    "            return True\n",
    "        \n",
    "        #keep looking either left or right, depending on the value\n",
    "        else:\n",
    "            if val < current.value:\n",
    "                current = current.left\n",
    "            else:\n",
    "                current = current.right\n",
    "    \n",
    "    #We never found it :(\n",
    "    return False"
   ]
  },
  {
   "cell_type": "code",
   "execution_count": 154,
   "metadata": {},
   "outputs": [
    {
     "name": "stdout",
     "output_type": "stream",
     "text": [
      "True\n",
      "False\n",
      "False\n",
      "True\n"
     ]
    }
   ],
   "source": [
    "print(search(1, tBST)) #True!\n",
    "print(search(36, tBST)) #False!\n",
    "print(search(20, tBST.left)) #20 is in the BST, but on the right side. False!\n",
    "print(search(35, tBST.right)) #35 is in the subtree tBST.right. True!"
   ]
  },
  {
   "cell_type": "markdown",
   "metadata": {},
   "source": [
    "Insert adds a new leaf to the BST. It acts almost identical to search, in that we find where the node *should be* and then add it there. It is easy to think of the process recursively."
   ]
  },
  {
   "cell_type": "code",
   "execution_count": 107,
   "metadata": {},
   "outputs": [],
   "source": [
    "def insert(val, root):\n",
    "    \n",
    "    #go left\n",
    "    if val < root.value:\n",
    "        \n",
    "        #nothing there, add the new node\n",
    "        if root.left is None:\n",
    "            root.left = binNode(val)\n",
    "            \n",
    "        #otherwise add the value to the left subtree    \n",
    "        else:\n",
    "            insert(val, root.left)\n",
    "    \n",
    "    #same as the previous section due to symmetry\n",
    "    if val > root.value:\n",
    "        if root.right is None:\n",
    "            root.right = binNode(val)\n",
    "        else:\n",
    "            insert(val, root.right)"
   ]
  },
  {
   "cell_type": "code",
   "execution_count": 155,
   "metadata": {},
   "outputs": [
    {
     "name": "stdout",
     "output_type": "stream",
     "text": [
      "False\n",
      "15\n",
      "\t5\n",
      "\t\t1\n",
      "\t\t9\n",
      "\t25\n",
      "\t\t20\n",
      "\t\t\t17\n",
      "\t\t30\n",
      "\t\t\t35\n",
      "\n",
      "True\n",
      "15\n",
      "\t5\n",
      "\t\t1\n",
      "\t\t9\n",
      "\t\t\t7\n",
      "\t25\n",
      "\t\t20\n",
      "\t\t\t17\n",
      "\t\t30\n",
      "\t\t\t35\n",
      "\n"
     ]
    }
   ],
   "source": [
    "print(search(17,tBST))\n",
    "insert(17,tBST)\n",
    "print(tBST)\n",
    "print(search(17, tBST))\n",
    "\n",
    "insert(7,tBST)\n",
    "print(tBST)"
   ]
  },
  {
   "cell_type": "markdown",
   "metadata": {},
   "source": [
    "A critical aspect of trees is \"tree traversal,\" in which we explore entire trees. If we want to write down every node value in a tree, where do we start? Which nodes do we write down first?\n",
    "\n",
    "That question can be answered in one of three ways: pre-order traversal, in-order traversal, and post-order traversal. Eath method is recursive. For a given node and its subtrees, we can preform\n",
    "* Pre-order traversal - Write down the value of the node, then do a pre-order traversal of its left child, then its right child.\n",
    "* In-order traversal - Do an in-order traversal the left child, write down the value of the node, then do an in-order traversal of the right child.\n",
    "* Post-order traversal - Do a post-order traversal of the left child, then the right child, then write down dawn the value of the node.\n",
    "\n"
   ]
  },
  {
   "cell_type": "code",
   "execution_count": 122,
   "metadata": {},
   "outputs": [],
   "source": [
    "def preOrder(root):\n",
    "    if root: #center, left, right\n",
    "        return [root.value] + preOrder(root.left) + preOrder(root.right)\n",
    "    else: #reached the bottom of the tree\n",
    "        return []\n",
    "\n",
    "def inOrder(root):\n",
    "    if root: #left, center, right\n",
    "        return inOrder(root.left) + [root.value] + inOrder(root.right)\n",
    "    else: #reached the bottom of the tree\n",
    "        return []\n",
    "\n",
    "def postOrder(root):\n",
    "    if root: #left, right, center\n",
    "        return postOrder(root.left) + postOrder(root.right) + [root.value]\n",
    "    else: #reached the bottom of the tree\n",
    "        return []"
   ]
  },
  {
   "cell_type": "code",
   "execution_count": 123,
   "metadata": {},
   "outputs": [
    {
     "name": "stdout",
     "output_type": "stream",
     "text": [
      "[15, 5, 1, 9, 7, 25, 20, 17, 30, 35]\n",
      "[1, 5, 7, 9, 15, 17, 20, 25, 30, 35]\n",
      "[1, 7, 9, 5, 17, 20, 35, 30, 25, 15]\n"
     ]
    }
   ],
   "source": [
    "print(preOrder(tBST))\n",
    "print(inOrder(tBST)) \n",
    "print(postOrder(tBST))"
   ]
  },
  {
   "cell_type": "markdown",
   "metadata": {},
   "source": [
    "Note that the in-order traversal returns the numbers in ascending order. **This is always the case for a binary search tree.**\n",
    "\n",
    "Tree traversals are important in a number of situations, but they are necessary to properly **delete** a node from a tree, the final function we'll consider. When deleting a node from a tree, we have to consider three cases. The first two are simple, the third is more complicated if we wish to maintain a well balanced BST.\n",
    "\n",
    "1. If the node has zero children, it is a leaf and it can be deleted with no consequence.\n",
    "2. If the node has one child, that child should replace the deleted parent.\n",
    "3. If the node has two children, it needs to be replaced by its **in-order successor**, aka the node that comes directly after it in an in-order traversal. This is always the smallest value in the right subtree."
   ]
  },
  {
   "cell_type": "code",
   "execution_count": 142,
   "metadata": {},
   "outputs": [],
   "source": [
    "#This function deletes a node from a given tree.\n",
    "#It returns the root of the tree and is implemented\n",
    "#recursively.\n",
    "def delete(val, root):\n",
    "    \n",
    "    #delete from left subtree\n",
    "    if val < root.value:\n",
    "        root.left = delete(val, root.left)\n",
    "    \n",
    "    #delete from right subtree\n",
    "    elif val > root.value:\n",
    "        root.right = delete(val, root.right)\n",
    "    \n",
    "    #We've found the value\n",
    "    elif val == root.value:\n",
    "        \n",
    "        #zero children or one child\n",
    "        #root.left and root.right are both None if zero children\n",
    "        if not root.right:\n",
    "            return root.left\n",
    "        elif not root.left:\n",
    "            return root.right\n",
    "        \n",
    "        #node with two children\n",
    "        successor = inOrder(root.right)[0]\n",
    "        root.value = successor\n",
    "        \n",
    "        #remember to remove the successor from the subtree\n",
    "        root.right = delete(successor,root.right)\n",
    "    \n",
    "    #note that nothing happens if the value is not in the tree\n",
    "    return root"
   ]
  },
  {
   "cell_type": "code",
   "execution_count": 145,
   "metadata": {},
   "outputs": [
    {
     "name": "stdout",
     "output_type": "stream",
     "text": [
      "15\n",
      "\t5\n",
      "\t\t1\n",
      "\t\t9\n",
      "\t\t\t7\n",
      "\t25\n",
      "\t\t20\n",
      "\t\t\t17\n",
      "\t\t30\n",
      "\t\t\t35\n",
      "\n",
      "15\n",
      "\t5\n",
      "\t\t9\n",
      "\t\t\t7\n",
      "\t25\n",
      "\t\t20\n",
      "\t\t\t17\n",
      "\t\t30\n",
      "\t\t\t35\n",
      "\n",
      "15\n",
      "\t9\n",
      "\t\t7\n",
      "\t25\n",
      "\t\t20\n",
      "\t\t\t17\n",
      "\t\t30\n",
      "\t\t\t35\n",
      "\n",
      "15\n",
      "\t9\n",
      "\t\t7\n",
      "\t30\n",
      "\t\t20\n",
      "\t\t\t17\n",
      "\t\t35\n",
      "\n",
      "17\n",
      "\t9\n",
      "\t\t7\n",
      "\t30\n",
      "\t\t20\n",
      "\t\t35\n",
      "\n"
     ]
    }
   ],
   "source": [
    "\"\"\"First we build a tree to work with\"\"\"\n",
    "tBST = binNode(15, left = binNode(5), right = binNode(25))\n",
    "tBST.left.left = binNode(1)\n",
    "tBST.left.right = binNode(9)\n",
    "tBST.right.left = binNode(20)\n",
    "tBST.right.right = binNode(30)\n",
    "tBST.right.right.right = binNode(35)\n",
    "insert(17,tBST)\n",
    "insert(7, tBST)\n",
    "\n",
    "print(tBST)\n",
    "#Let's delete 1, a leaf\n",
    "tBST = delete(1, tBST)\n",
    "print(tBST)\n",
    "#The only change is that 1 is gone\n",
    "\n",
    "#Now let's delete something with one child\n",
    "tBST = delete(5, tBST)\n",
    "print(tBST)\n",
    "#5 has been replaced by its one child, 9\n",
    "\n",
    "#Now let's delete a node with two children\n",
    "tBST = delete(25, tBST)\n",
    "print(tBST)\n",
    "#25's in-order successor (the minimum value of it's right child)\n",
    "#was 30, which has now replaced 25\n",
    "\n",
    "#We can even delete the root\n",
    "tBST = delete(15, tBST)\n",
    "print(tBST)\n",
    "#15 has been replaced by its in-order successor, 17"
   ]
  },
  {
   "cell_type": "code",
   "execution_count": null,
   "metadata": {},
   "outputs": [],
   "source": []
  }
 ],
 "metadata": {
  "kernelspec": {
   "display_name": "Python 3",
   "language": "python",
   "name": "python3"
  },
  "language_info": {
   "codemirror_mode": {
    "name": "ipython",
    "version": 3
   },
   "file_extension": ".py",
   "mimetype": "text/x-python",
   "name": "python",
   "nbconvert_exporter": "python",
   "pygments_lexer": "ipython3",
   "version": "3.6.8"
  }
 },
 "nbformat": 4,
 "nbformat_minor": 2
}
