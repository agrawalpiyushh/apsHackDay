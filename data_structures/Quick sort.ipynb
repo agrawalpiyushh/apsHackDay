{
 "cells": [
  {
   "cell_type": "code",
   "execution_count": 45,
   "metadata": {},
   "outputs": [],
   "source": [
    "#A slow implementation of quick sort\n",
    "def badQuickSort(arr):\n",
    "    \n",
    "    #base case, return an array of length 1\n",
    "    if len(arr) <= 1:\n",
    "        return arr\n",
    "    \n",
    "    #Choose a pivot, in this case the final value\n",
    "    pivot = arr[-1]\n",
    "    \n",
    "    #Initialize subarrays\n",
    "    lessThan = []\n",
    "    greaterThan = []\n",
    "    \n",
    "    #Move each element into the appropriate subarray\n",
    "    for num in arr[:-1]:\n",
    "        if num <= pivot:\n",
    "            lessThan.append(num)\n",
    "        else:\n",
    "            greaterThan.append(num)\n",
    "    \n",
    "    #useful for visualization\n",
    "    print(lessThan, pivot, greaterThan)\n",
    "    \n",
    "    #sort lessThan and greaterThan, place pivot in the middle\n",
    "    return badQuickSort(lessThan) + [pivot] + badQuickSort(greaterThan)\n",
    "    "
   ]
  },
  {
   "cell_type": "code",
   "execution_count": 46,
   "metadata": {},
   "outputs": [
    {
     "name": "stdout",
     "output_type": "stream",
     "text": [
      "[1, 4, 3, 4] 5 [13, 9]\n",
      "[1, 4, 3] 4 []\n",
      "[1] 3 [4]\n",
      "[] 9 [13]\n"
     ]
    },
    {
     "data": {
      "text/plain": [
       "[1, 3, 4, 4, 5, 9, 13]"
      ]
     },
     "execution_count": 46,
     "metadata": {},
     "output_type": "execute_result"
    }
   ],
   "source": [
    "badQuickSort([13, 1, 4, 9, 3, 4, 5])"
   ]
  },
  {
   "cell_type": "code",
   "execution_count": 39,
   "metadata": {},
   "outputs": [],
   "source": [
    "def Partition(arr, lo, hi):\n",
    "    pivot = arr[hi-1]\n",
    "    i = lo\n",
    "    \n",
    "    for j in range(lo, hi):\n",
    "        if arr[j] <= pivot:\n",
    "            temp = arr[j]\n",
    "            arr[j] = arr[i]\n",
    "            arr[i] = temp\n",
    "            i += 1\n",
    "    print(arr)\n",
    "    return i\n",
    "\n",
    "def quickSortSub(arr, lo, hi):\n",
    "    if lo < hi:\n",
    "        p = Partition(arr, lo, hi)\n",
    "        quickSortSub(arr, lo, p-1)\n",
    "        quickSortSub(arr, p+1, hi)\n",
    "\n",
    "def quickSort(arr):\n",
    "    quickSortSub(arr, 0, len(arr))"
   ]
  },
  {
   "cell_type": "code",
   "execution_count": 40,
   "metadata": {
    "scrolled": true
   },
   "outputs": [
    {
     "name": "stdout",
     "output_type": "stream",
     "text": [
      "[1, 4, 3, 4, 5, 9, 13]\n",
      "[1, 4, 3, 4, 5, 9, 13]\n",
      "[1, 3, 4, 4, 5, 9, 13]\n",
      "[1, 3, 4, 4, 5, 9, 13]\n",
      "[1, 3, 4, 4, 5, 9, 13]\n"
     ]
    }
   ],
   "source": [
    "quickSort([13, 1, 4, 9, 3, 4, 5])"
   ]
  },
  {
   "cell_type": "code",
   "execution_count": null,
   "metadata": {},
   "outputs": [],
   "source": []
  }
 ],
 "metadata": {
  "kernelspec": {
   "display_name": "Python 3",
   "language": "python",
   "name": "python3"
  },
  "language_info": {
   "codemirror_mode": {
    "name": "ipython",
    "version": 3
   },
   "file_extension": ".py",
   "mimetype": "text/x-python",
   "name": "python",
   "nbconvert_exporter": "python",
   "pygments_lexer": "ipython3",
   "version": "3.6.8"
  }
 },
 "nbformat": 4,
 "nbformat_minor": 2
}
