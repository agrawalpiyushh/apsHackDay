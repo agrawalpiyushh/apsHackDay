{
 "cells": [
  {
   "cell_type": "code",
   "execution_count": 14,
   "metadata": {},
   "outputs": [],
   "source": [
    "def insertionSort(n):\n",
    "    \n",
    "    #for each element\n",
    "    for i in range(len(n)):\n",
    "        \n",
    "        #Swap until you are in the right location\n",
    "        #Or until you reach the left edge\n",
    "        while i > 0 and n[i] < n[i-1]:\n",
    "            \n",
    "            #swap procedure\n",
    "            temp = n[i-1]\n",
    "            n[i-1] = n[i]\n",
    "            n[i] = temp\n",
    "            \n",
    "            #move to the left\n",
    "            i = i-1\n",
    "            \n",
    "            #useful for visualization\n",
    "            print(n)"
   ]
  },
  {
   "cell_type": "code",
   "execution_count": 13,
   "metadata": {},
   "outputs": [
    {
     "name": "stdout",
     "output_type": "stream",
     "text": [
      "[13, 1, 4, 9, 5, 4, 3]\n",
      "[1, 13, 4, 9, 5, 4, 3]\n",
      "[1, 4, 13, 9, 5, 4, 3]\n",
      "[1, 4, 9, 13, 5, 4, 3]\n",
      "[1, 4, 9, 5, 13, 4, 3]\n",
      "[1, 4, 5, 9, 13, 4, 3]\n",
      "[1, 4, 5, 9, 4, 13, 3]\n",
      "[1, 4, 5, 4, 9, 13, 3]\n",
      "[1, 4, 4, 5, 9, 13, 3]\n",
      "[1, 4, 4, 5, 9, 3, 13]\n",
      "[1, 4, 4, 5, 3, 9, 13]\n",
      "[1, 4, 4, 3, 5, 9, 13]\n",
      "[1, 4, 3, 4, 5, 9, 13]\n",
      "[1, 3, 4, 4, 5, 9, 13]\n"
     ]
    }
   ],
   "source": [
    "testArray = [13, 1, 4, 9, 5, 4, 3]\n",
    "print(testArray)\n",
    "insertionSort(testArray)"
   ]
  },
  {
   "cell_type": "code",
   "execution_count": null,
   "metadata": {},
   "outputs": [],
   "source": []
  }
 ],
 "metadata": {
  "kernelspec": {
   "display_name": "Python 3",
   "language": "python",
   "name": "python3"
  },
  "language_info": {
   "codemirror_mode": {
    "name": "ipython",
    "version": 3
   },
   "file_extension": ".py",
   "mimetype": "text/x-python",
   "name": "python",
   "nbconvert_exporter": "python",
   "pygments_lexer": "ipython3",
   "version": "3.6.8"
  }
 },
 "nbformat": 4,
 "nbformat_minor": 2
}
