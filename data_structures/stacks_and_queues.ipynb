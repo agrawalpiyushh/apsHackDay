{
 "cells": [
  {
   "cell_type": "markdown",
   "metadata": {},
   "source": [
    "# Stacks and Queues\n",
    "Stacks and queues are a type of data structure in which you add and remove elements one at a time. Conceptually they are very similar but with one key difference. \n",
    "\n",
    "With stacks, the next element you can remove is always the *last* element you placed on the stack (FILO: first in last out). Imagine an actual stack of things. If you place something on the top of the stack, you can no longer access the things below.\n",
    "\n",
    "With queues, the next elemetn you can remove is always the *first* element you placed in the queue (FIFO: first in first out). You can always add things to the back of a queue, but unless you jump in line the first arrival will always be the first to leave."
   ]
  },
  {
   "cell_type": "markdown",
   "metadata": {},
   "source": [
    "Let's start by looking at Python's implementation of a stack. Without importing other packages, Python doesn't have a data structure that is explicitly a stack. Instead, we can take a normal list and use two functions to simulate a stack: **append** and **pop**. **Append** adds an element to the *end* of the list. Note that this does not create a new list, it alters your original list."
   ]
  },
  {
   "cell_type": "code",
   "execution_count": 102,
   "metadata": {},
   "outputs": [
    {
     "name": "stdout",
     "output_type": "stream",
     "text": [
      "[1, 2]\n",
      "[1, 2, 3]\n"
     ]
    }
   ],
   "source": [
    "tStack = []\n",
    "tStack.append(1)\n",
    "tStack.append(2)\n",
    "print(tStack)\n",
    "tStack.append(3)\n",
    "print(tStack)"
   ]
  },
  {
   "cell_type": "markdown",
   "metadata": {},
   "source": [
    "Now let's look at **pop**. When given no argument, **pop** returns the element at the end of the list. That element is removed from your original list. Consider the following code."
   ]
  },
  {
   "cell_type": "code",
   "execution_count": 104,
   "metadata": {
    "scrolled": true
   },
   "outputs": [
    {
     "name": "stdout",
     "output_type": "stream",
     "text": [
      "3\n",
      "[1, 2, 4]\n",
      "4\n",
      "2\n"
     ]
    }
   ],
   "source": [
    "tStack = [1,2,3] #in case the cell above is changed\n",
    "print(tStack.pop())\n",
    "tStack.append(4)\n",
    "print(tStack)\n",
    "print(tStack.pop())\n",
    "print(tStack.pop())"
   ]
  },
  {
   "cell_type": "markdown",
   "metadata": {},
   "source": [
    "There are a few things to note here. The first is that when we popped 3, it was no longer in the list. The second is that since we appended 4 to the top of our stack, it was now the next element to be popped. It took two calls of pop() in order to get to 2. This follows the stack principles of FILO. \n",
    "\n",
    "One last note. If we were to continue recklessly popping, we eventually would try to pop an empty list. This will return an error!"
   ]
  },
  {
   "cell_type": "code",
   "execution_count": 107,
   "metadata": {},
   "outputs": [
    {
     "name": "stdout",
     "output_type": "stream",
     "text": [
      "1\n"
     ]
    }
   ],
   "source": [
    "tStack = [1]\n",
    "print(tStack.pop())\n",
    "#tStack.pop() #THIS RETURNS AN ERROR"
   ]
  },
  {
   "cell_type": "markdown",
   "metadata": {},
   "source": [
    "Let's move on to queues. A queue is implemented in Python in a very similar fashion. Now instead of append, we use **insert** to add new elements. Specifically, list.insert(0, x) places \"x\" at the beginning of \"list\" (at the 0th index). We can then still use **pop** to get the element at the end of the list."
   ]
  },
  {
   "cell_type": "code",
   "execution_count": 109,
   "metadata": {},
   "outputs": [
    {
     "name": "stdout",
     "output_type": "stream",
     "text": [
      "[2, 1]\n",
      "[3, 2, 1]\n"
     ]
    }
   ],
   "source": [
    "tQueue = []\n",
    "tQueue.insert(0,1)\n",
    "tQueue.insert(0,2)\n",
    "print(tQueue)\n",
    "tQueue.insert(0,3)\n",
    "print(tQueue)"
   ]
  },
  {
   "cell_type": "markdown",
   "metadata": {},
   "source": [
    "If we start popping from this list, we should expect the numbers to be removed in the same order they were inserted."
   ]
  },
  {
   "cell_type": "code",
   "execution_count": 110,
   "metadata": {},
   "outputs": [
    {
     "name": "stdout",
     "output_type": "stream",
     "text": [
      "1\n",
      "[4, 3, 2]\n",
      "2\n",
      "3\n",
      "4\n"
     ]
    }
   ],
   "source": [
    "tQueue = [3, 2, 1]\n",
    "print(tQueue.pop())\n",
    "tQueue.insert(0,4)\n",
    "print(tQueue)\n",
    "print(tQueue.pop())\n",
    "print(tQueue.pop())\n",
    "print(tQueue.pop())"
   ]
  },
  {
   "cell_type": "markdown",
   "metadata": {},
   "source": [
    "Unlike in a stack, we can add as many elements to our queue as we want without affecting the next one to be returned. This follows the principles of FIFO.\n",
    "\n",
    "At this point, we have everything we need to build classes that emulate stacks and queues. My classes include two functions: **add** and **get**, which add and remove elements, respectively. I also have functions which tells Python how to represent the structures as a string for printing. You can do that for any class in Python!\n",
    "\n",
    "Let's start with a stack."
   ]
  },
  {
   "cell_type": "code",
   "execution_count": 123,
   "metadata": {},
   "outputs": [],
   "source": [
    "class Stack:\n",
    "    def __init__(self):\n",
    "        self.stack = []\n",
    "    def add(self,val):\n",
    "        self.stack.append(val)\n",
    "    def get(self):\n",
    "        return self.stack.pop()\n",
    "    \n",
    "    #How is this represented as a string?\n",
    "    def __str__(self):\n",
    "        return str(self.stack)"
   ]
  },
  {
   "cell_type": "markdown",
   "metadata": {},
   "source": [
    "We can add elements to our stack"
   ]
  },
  {
   "cell_type": "code",
   "execution_count": 137,
   "metadata": {},
   "outputs": [
    {
     "name": "stdout",
     "output_type": "stream",
     "text": [
      "[1, 2]\n",
      "[1, 2, 3]\n"
     ]
    }
   ],
   "source": [
    "tStack = Stack() #create an empty stack\n",
    "tStack.add(1) #add 1\n",
    "tStack.add(2) #add 2\n",
    "print(tStack)\n",
    "\n",
    "tStack.add(3) #add 3\n",
    "print(tStack)"
   ]
  },
  {
   "cell_type": "markdown",
   "metadata": {},
   "source": [
    "or we can remove them."
   ]
  },
  {
   "cell_type": "code",
   "execution_count": 138,
   "metadata": {},
   "outputs": [
    {
     "name": "stdout",
     "output_type": "stream",
     "text": [
      "3\n",
      "[1, 2]\n",
      "[1, 2, 4]\n",
      "4\n",
      "2\n",
      "[1]\n"
     ]
    }
   ],
   "source": [
    "print(tStack.get()) #remove 3\n",
    "print(tStack)\n",
    "\n",
    "tStack.add(4) #add 4\n",
    "print(tStack)\n",
    "\n",
    "print(tStack.get()) #remove 4\n",
    "print(tStack.get()) #remove 2\n",
    "print(tStack)"
   ]
  },
  {
   "cell_type": "markdown",
   "metadata": {},
   "source": [
    "Now let's consider a queue. It should look very similar to a stack."
   ]
  },
  {
   "cell_type": "code",
   "execution_count": 131,
   "metadata": {},
   "outputs": [],
   "source": [
    "class Queue():\n",
    "    def __init__(self):\n",
    "        self.queue = []\n",
    "    def add(self, val):\n",
    "        self.queue.insert(0,val)\n",
    "    def get(self):\n",
    "        return self.queue.pop()\n",
    "    \n",
    "    def __str__(self):\n",
    "        return str(self.queue)"
   ]
  },
  {
   "cell_type": "markdown",
   "metadata": {},
   "source": [
    "Again, we can add to the queue"
   ]
  },
  {
   "cell_type": "code",
   "execution_count": 139,
   "metadata": {},
   "outputs": [
    {
     "name": "stdout",
     "output_type": "stream",
     "text": [
      "[2, 1]\n",
      "[3, 2, 1]\n"
     ]
    }
   ],
   "source": [
    "tQueue = Queue() #Create a new queue\n",
    "\n",
    "tQueue.add(1) #add 1\n",
    "tQueue.add(2) #add 2\n",
    "print(tQueue)\n",
    "\n",
    "tQueue.add(3) #add 3\n",
    "print(tQueue)"
   ]
  },
  {
   "cell_type": "markdown",
   "metadata": {},
   "source": [
    "or remove elements from it."
   ]
  },
  {
   "cell_type": "code",
   "execution_count": 140,
   "metadata": {},
   "outputs": [
    {
     "name": "stdout",
     "output_type": "stream",
     "text": [
      "1\n",
      "[3, 2]\n",
      "[4, 3, 2]\n",
      "2\n",
      "3\n",
      "[4]\n"
     ]
    }
   ],
   "source": [
    "print(tQueue.get()) #remove 1\n",
    "print(tQueue)\n",
    "\n",
    "tQueue.add(4) #add 4\n",
    "print(tQueue)\n",
    "\n",
    "print(tQueue.get()) #remove 2\n",
    "print(tQueue.get()) #remove 3\n",
    "print(tQueue)"
   ]
  },
  {
   "cell_type": "markdown",
   "metadata": {},
   "source": [
    "### Examples"
   ]
  },
  {
   "cell_type": "markdown",
   "metadata": {},
   "source": [
    "#### Reverse Polish Notation\n",
    "Reverse Polish Notation is a cute and/or pathological way to write math expressions. Rather than having the operators in the middle of two numbers, we write them at the very end. So,\n",
    "\n",
    "2 + 5\n",
    "\n",
    "would be written as\n",
    "\n",
    "2 5 +\n",
    "\n",
    "We can chain multiple operators together, so for example\n",
    "\n",
    "(3 + 5) * (7 - 2)\n",
    "\n",
    "would be written as\n",
    "\n",
    "3 5 + 7 2 - *\n",
    "\n",
    "Notice that we no longer need parentheses! \"3 5 +\" is one number, \"7 2 -\" is another.\n",
    "\n",
    "It turns out that stacks are an excellent way to implement RPN."
   ]
  },
  {
   "cell_type": "code",
   "execution_count": 141,
   "metadata": {},
   "outputs": [],
   "source": [
    "operators = ['+', '-', '*', '/'] #we need to know which characters are operators"
   ]
  },
  {
   "cell_type": "code",
   "execution_count": 142,
   "metadata": {},
   "outputs": [],
   "source": [
    "#A function for calculating expressions written in Reverse Polish Notation\n",
    "def calcRPN(expression):\n",
    "    \n",
    "    expression = expression.split() #split the input string into a list\n",
    "    nums = Stack() #create an empty stack\n",
    "    \n",
    "    #loop over the list\n",
    "    for c in expression:\n",
    "        \n",
    "        if c not in operators: #c is a number\n",
    "            nums.add(int(c))\n",
    "            \n",
    "        else:\n",
    "            #get the two most recent numbers\n",
    "            first = nums.get()\n",
    "            second = nums.get()\n",
    "            \n",
    "            #perform the operation and add the result to the stack\n",
    "            if c=='+':\n",
    "                nums.add(second + first)\n",
    "            elif c=='-':\n",
    "                nums.add(second - first)\n",
    "            elif c=='*':\n",
    "                nums.add(second * first)\n",
    "            else:\n",
    "                nums.add(second / first)\n",
    "                \n",
    "    return nums.get() #get the final result"
   ]
  },
  {
   "cell_type": "code",
   "execution_count": 143,
   "metadata": {},
   "outputs": [
    {
     "data": {
      "text/plain": [
       "40"
      ]
     },
     "execution_count": 143,
     "metadata": {},
     "output_type": "execute_result"
    }
   ],
   "source": [
    "# (3 + 5) * (7 - 2)\n",
    "calcRPN(\"3 5 + 7 2 - *\")"
   ]
  },
  {
   "cell_type": "code",
   "execution_count": 144,
   "metadata": {},
   "outputs": [
    {
     "data": {
      "text/plain": [
       "27.0"
      ]
     },
     "execution_count": 144,
     "metadata": {},
     "output_type": "execute_result"
    }
   ],
   "source": [
    "# (7 - 2) * 5 + 6 / (4 - 1)\n",
    "calcRPN(\"7 2 - 5 * 6 4 1 - / +\")"
   ]
  },
  {
   "cell_type": "markdown",
   "metadata": {},
   "source": [
    "#### Implement a queue using only stacks\n",
    "\n",
    "Suppose you've already created a class of stacks. Could you create a queue that only uses stacks? In the example I've included below, I use two stacks. For an extra challenge, try and do it with one!"
   ]
  },
  {
   "cell_type": "code",
   "execution_count": 147,
   "metadata": {},
   "outputs": [],
   "source": [
    "class QWithStack:\n",
    "    def __init__(self):\n",
    "        self.queue = Stack()\n",
    "        \n",
    "    def add(self, val):\n",
    "        sidePile = Stack() #a separate stack\n",
    "        \n",
    "        while self.queue.stack: #while the stack is not empty\n",
    "            sidePile.add(self.queue.get()) #transfer elements to the side stack\n",
    "            \n",
    "        self.queue.add(val) #add the new value to the now empty stack\n",
    "        \n",
    "        while sidePile.stack:\n",
    "            self.queue.add(sidePile.get()) #pile everything back on\n",
    "            \n",
    "    def get(self):\n",
    "        return self.queue.get()"
   ]
  },
  {
   "cell_type": "code",
   "execution_count": 148,
   "metadata": {},
   "outputs": [
    {
     "name": "stdout",
     "output_type": "stream",
     "text": [
      "1\n",
      "2\n",
      "3\n",
      "4\n"
     ]
    }
   ],
   "source": [
    "test = QWithStack()\n",
    "\n",
    "test.add(1) #add 1\n",
    "test.add(2) #add 2\n",
    "test.add(3) #add 3\n",
    "\n",
    "print(test.get()) #remove 1\n",
    "\n",
    "test.add(4) #add 4\n",
    "\n",
    "print(test.get()) #remove 2\n",
    "print(test.get()) #remove 3\n",
    "print(test.get()) #remove 4"
   ]
  },
  {
   "cell_type": "markdown",
   "metadata": {},
   "source": [
    "#### Implement a stack with a linked list\n",
    "\n",
    "Now can you implement a queue or a stack from a linked list? See the linked list notebook if you need a review of that data structure. The linked list class is recreated below."
   ]
  },
  {
   "cell_type": "code",
   "execution_count": 149,
   "metadata": {},
   "outputs": [],
   "source": [
    "class Node:\n",
    "    def __init__(self, val):\n",
    "        self.val = val\n",
    "        self.next = None #a node should originally point to nothing"
   ]
  },
  {
   "cell_type": "code",
   "execution_count": 150,
   "metadata": {},
   "outputs": [],
   "source": [
    "class QWithLL():\n",
    "    def __init__(self):\n",
    "        self.queue = Node(None)\n",
    "        self.tail = self.queue #keep track of the end of the LL\n",
    "        \n",
    "    def add(self, val):\n",
    "        if self.queue.val:\n",
    "            self.tail.next = Node(val) #Create a new end to the LL with val\n",
    "            self.tail = self.tail.next #Move \"tail\" to the new end\n",
    "            \n",
    "        else: #This is the front of the queue\n",
    "            self.queue.val = val\n",
    "            \n",
    "    def get(self):\n",
    "        res = self.queue.val #get the value at the top of the LL\n",
    "        self.queue = self.queue.next #move to the next node (forget the previous one)\n",
    "        return res"
   ]
  },
  {
   "cell_type": "code",
   "execution_count": 152,
   "metadata": {
    "scrolled": true
   },
   "outputs": [
    {
     "name": "stdout",
     "output_type": "stream",
     "text": [
      "1\n",
      "2\n",
      "3\n",
      "4\n"
     ]
    }
   ],
   "source": [
    "test = QWithLL() #initialize\n",
    "\n",
    "test.add(1) #add 1\n",
    "test.add(2) #add 2\n",
    "test.add(3) #add 3\n",
    "\n",
    "print(test.get()) #remove 1\n",
    "\n",
    "test.add(4) #add 4\n",
    "\n",
    "print(test.get()) #remove 2\n",
    "print(test.get()) #remove 3\n",
    "print(test.get()) #remove 4"
   ]
  },
  {
   "cell_type": "markdown",
   "metadata": {},
   "source": [
    "As you might imagine, there is a similar procedure for implementing a stack with a linked list! There are two ways of doing this, I have included the slower way. This method takes O(n) time to get an element from the stack (which is terrible!). Can you do it in linear time?"
   ]
  },
  {
   "cell_type": "code",
   "execution_count": 153,
   "metadata": {},
   "outputs": [],
   "source": [
    "class SWithLL():\n",
    "    def __init__(self):\n",
    "        self.stack = Node(None)\n",
    "        self.tail = self.stack #keep track of the end of the LL\n",
    "        \n",
    "    def add(self, val):\n",
    "        if self.stack.val:\n",
    "            self.tail.next = Node(val) #Add a node to the end\n",
    "            self.tail = self.tail.next #Move \"tail\" to the new end\n",
    "            \n",
    "        else: #bottom of the stack\n",
    "            self.stack.val = val\n",
    "            \n",
    "    def get(self):\n",
    "        if self.stack == self.tail: #the stack has one element\n",
    "            res = self.stack.val\n",
    "            self.stack.val = None\n",
    "            \n",
    "        else: #we need to find the end of the LL\n",
    "            \n",
    "            #move down the LL until we arrive at the node right before tail\n",
    "            current = self.stack\n",
    "            while current.next != self.tail:\n",
    "                current = current.next\n",
    "            \n",
    "            res = self.tail.val #get the value at tail\n",
    "            current.next = None #delete the node\n",
    "            self.tail = current #move \"tail\" back one\n",
    "            \n",
    "        return res"
   ]
  },
  {
   "cell_type": "code",
   "execution_count": 154,
   "metadata": {},
   "outputs": [
    {
     "name": "stdout",
     "output_type": "stream",
     "text": [
      "3\n",
      "4\n",
      "2\n",
      "1\n"
     ]
    }
   ],
   "source": [
    "test = SWithLL() #initialize\n",
    "\n",
    "test.add(1) #add 1\n",
    "test.add(2) #add 2\n",
    "test.add(3) #add 3\n",
    "\n",
    "print(test.get()) #remove 3\n",
    "\n",
    "test.add(4) #add 4\n",
    "\n",
    "print(test.get()) #remove 4\n",
    "print(test.get()) #remove 2\n",
    "print(test.get()) #remove 1"
   ]
  }
 ],
 "metadata": {
  "kernelspec": {
   "display_name": "Python 3",
   "language": "python",
   "name": "python3"
  },
  "language_info": {
   "codemirror_mode": {
    "name": "ipython",
    "version": 3
   },
   "file_extension": ".py",
   "mimetype": "text/x-python",
   "name": "python",
   "nbconvert_exporter": "python",
   "pygments_lexer": "ipython3",
   "version": "3.6.8"
  }
 },
 "nbformat": 4,
 "nbformat_minor": 2
}
